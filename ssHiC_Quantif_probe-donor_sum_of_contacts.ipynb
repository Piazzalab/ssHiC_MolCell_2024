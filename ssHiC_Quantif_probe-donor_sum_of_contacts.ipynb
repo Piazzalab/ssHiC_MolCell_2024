{
 "cells": [
  {
   "cell_type": "markdown",
   "id": "799b727f",
   "metadata": {},
   "source": [
    "written by chatGPT. The code quantify the contacts made by each probe with a given chromosomal region. It uses the output of the ssHiC pipeline: a table with 3 columns specifying chr, chr_coord, and genome_coord, and the rest of the column being the contact made by each targeted fragments"
   ]
  },
  {
   "cell_type": "code",
   "execution_count": 1,
   "id": "d0532c27",
   "metadata": {},
   "outputs": [],
   "source": [
    "import pandas as pd"
   ]
  },
  {
   "cell_type": "code",
   "execution_count": 2,
   "id": "59ce6ceb",
   "metadata": {},
   "outputs": [],
   "source": [
    "input_dir = \"/mnt/e/Science/ssHiC/\"\n",
    "output_dir = \"/mnt/d/Science/Owncloud/Experiments/Capture/Analysis/Donor_contacts/\"\n",
    "\n",
    "chromosome_of_interest = \"chr2\"\n",
    "start_index = 450000\n",
    "end_index = 490000"
   ]
  },
  {
   "cell_type": "markdown",
   "id": "4eb19e8f",
   "metadata": {},
   "source": [
    "This function calculates the sum of each column in a table in a give interval using chromosome coordinates (columns 1+2)"
   ]
  },
  {
   "cell_type": "code",
   "execution_count": 3,
   "id": "cc1d3a37",
   "metadata": {},
   "outputs": [],
   "source": [
    "def calculate_sum_in_interval_on_chromosome(table, chromosome_of_interest, start_index, end_index):\n",
    "    # Create a DataFrame from the table data\n",
    "    df = table\n",
    "    \n",
    "    # Filter rows based on the desired chromosome\n",
    "    filtered_df = df[df['chr'] == chromosome_of_interest]\n",
    "    \n",
    "    # Extract the columns for sum calculation\n",
    "    columns = filtered_df.columns[3:]\n",
    "    \n",
    "    # Initialize a dictionary to store the sum for each column\n",
    "    column_sums = {col: 0 for col in columns}\n",
    "    \n",
    "    # Iterate over each row in the filtered DataFrame\n",
    "    for index, row in filtered_df.iterrows():\n",
    "        # Extract the coordinates value\n",
    "        coordinates = int(row['chr_bins'])\n",
    "        \n",
    "        # Check if the coordinates fall within the interval\n",
    "        if start_index <= coordinates <= end_index:\n",
    "            # Iterate over each column\n",
    "            for col in columns:\n",
    "                # Get the corresponding value in the row\n",
    "                value = float(row[col])\n",
    "                \n",
    "                # Add the value to the sum for the current column\n",
    "                column_sums[col] += value\n",
    "    \n",
    "    return column_sums\n"
   ]
  },
  {
   "cell_type": "markdown",
   "id": "32063a7d",
   "metadata": {},
   "source": [
    "### Part for frequencies (not pondered)"
   ]
  },
  {
   "cell_type": "code",
   "execution_count": 18,
   "id": "d8c83e4e",
   "metadata": {},
   "outputs": [],
   "source": [
    "#samples = [\"AD162\", \"AD206\", \"AD208\", \"AD210\", \"AD212\", \"AD233\", \"AD235\", \"AD237\", \"AD239\", \n",
    "#         \"AD241\", \"AD243\", \"AD245\", \"AD247\", \"AD291\", \"AD293\", \"AD295\", \"AD297\", \"AD298\", \"AD299\", \"AD300\", \"AD301\", \n",
    "#         \"AD207\", \"AD209\", \"AD211\", \"AD213\", \"AD234\", \"AD236\", \"AD238\", \"AD240\", \"AD242\", \"AD244\", \n",
    "#         \"AD246\", \"AD248\",\"AD258\", \"AD257\",  \"AD259\", \"AD260\", \"AD289\", \"AD290\", \n",
    "#         \"AD292\", \"AD294\", \"AD296\", \"AD401\", \"AD402\"]\n",
    "samples = [\"AD401\", \"AD402\", \"AD403\", \"AD404\", \"AD406\"]\n",
    "#samples = [\"AD302\"]\n",
    "\n",
    "for sample in samples:\n",
    "    table = pd.read_csv(str(input_dir + str(sample) + \"/not_pondered/\" + str(sample) + \"_1kb_binned_frequencies.tsv\"),sep=\"\\t\")  \n",
    "\n",
    "    # Call the function to calculate the sum on the specified chromosome and interval\n",
    "    result = calculate_sum_in_interval_on_chromosome(table, chromosome_of_interest, start_index, end_index)\n",
    "\n",
    "    # Create a new table with the sum results\n",
    "    new_table = pd.DataFrame.from_dict(result, orient='index', columns=['Sum'])\n",
    "\n",
    "    # Save the new table\n",
    "    new_table.to_csv(str(output_dir + str(sample) + \"_sum_frequencies_\" + str(chromosome_of_interest) + \"_\" + str(start_index)\n",
    "                         + \"_\" + str(end_index) + \"_not_pondered.tsv\"), sep=\"\\t\", index=True)"
   ]
  },
  {
   "cell_type": "markdown",
   "id": "7d27bae1",
   "metadata": {},
   "source": [
    "### For pondered data"
   ]
  },
  {
   "cell_type": "markdown",
   "id": "cc963902",
   "metadata": {},
   "source": [
    "For WT 2h"
   ]
  },
  {
   "cell_type": "code",
   "execution_count": 15,
   "id": "6edd5b1a",
   "metadata": {},
   "outputs": [],
   "source": [
    "#samples = [\"AD206\", \"AD208\", \"AD210\", \"AD212\", \"AD233\", \"AD235\", \"AD237\", \"AD239\", \"AD243\", \"AD245\", \"AD247\"]\n",
    "#samples = [\"AD291\", \"AD293\", \"AD295\", \"AD297\", \"AD299\", \"AD301\"]\n",
    "\n",
    "\n",
    "for sample in samples:\n",
    "    #table = pd.read_csv(str(input_dir + str(sample) + \"/pondered_ref_WT2h_v1/\" + str(sample) + \"_1kb_binned_pondered_frequencies.tsv\"),sep=\"\\t\")  \n",
    "    table = pd.read_csv(str(input_dir + str(sample) + \"/pondered_ref_WT2h_v2/\" + str(sample) + \"_1kb_binned_pondered_frequencies.tsv\"),sep=\"\\t\")  \n",
    "    \n",
    "    # Call the function to calculate the sum on the specified chromosome and interval\n",
    "    result = calculate_sum_in_interval_on_chromosome(table, chromosome_of_interest, start_index, end_index)\n",
    "\n",
    "    # Create a new table with the sum results\n",
    "    new_table = pd.DataFrame.from_dict(result, orient='index', columns=['Sum'])\n",
    "\n",
    "    # Save the new table\n",
    "    new_table.to_csv(str(output_dir + str(sample) + \"_sum_frequencies_\" + str(chromosome_of_interest) + \"_\" + str(start_index)\n",
    "                         + \"_\" + str(end_index) + \"_pondered_over_wt2h.tsv\"), sep=\"\\t\", index=True)"
   ]
  },
  {
   "cell_type": "markdown",
   "id": "b64a2ccc",
   "metadata": {},
   "source": [
    "For WT 4h"
   ]
  },
  {
   "cell_type": "code",
   "execution_count": 12,
   "id": "29156684",
   "metadata": {},
   "outputs": [
    {
     "ename": "FileNotFoundError",
     "evalue": "[Errno 2] File /mnt/e/Science/ssHiC/AD302/pondered_ref_WT4h_v2/AD302_1kb_binned_pondered_frequencies.tsv does not exist: '/mnt/e/Science/ssHiC/AD302/pondered_ref_WT4h_v2/AD302_1kb_binned_pondered_frequencies.tsv'",
     "output_type": "error",
     "traceback": [
      "\u001b[0;31m---------------------------------------------------------------------------\u001b[0m",
      "\u001b[0;31mFileNotFoundError\u001b[0m                         Traceback (most recent call last)",
      "Input \u001b[0;32mIn [12]\u001b[0m, in \u001b[0;36m<module>\u001b[0;34m\u001b[0m\n\u001b[1;32m      3\u001b[0m \u001b[38;5;66;03m#add AD257 AD259 AD289 when ponderation done\u001b[39;00m\n\u001b[1;32m      5\u001b[0m \u001b[38;5;28;01mfor\u001b[39;00m sample \u001b[38;5;129;01min\u001b[39;00m samples:\n\u001b[1;32m      6\u001b[0m     \u001b[38;5;66;03m#table = pd.read_csv(str(input_dir + str(sample) + \"/pondered_ref_WT4h_v1/\" + str(sample) + \"_1kb_binned_pondered_frequencies.tsv\"),sep=\"\\t\")\u001b[39;00m\n\u001b[0;32m----> 7\u001b[0m     table \u001b[38;5;241m=\u001b[39m \u001b[43mpd\u001b[49m\u001b[38;5;241;43m.\u001b[39;49m\u001b[43mread_csv\u001b[49m\u001b[43m(\u001b[49m\u001b[38;5;28;43mstr\u001b[39;49m\u001b[43m(\u001b[49m\u001b[43minput_dir\u001b[49m\u001b[43m \u001b[49m\u001b[38;5;241;43m+\u001b[39;49m\u001b[43m \u001b[49m\u001b[38;5;28;43mstr\u001b[39;49m\u001b[43m(\u001b[49m\u001b[43msample\u001b[49m\u001b[43m)\u001b[49m\u001b[43m \u001b[49m\u001b[38;5;241;43m+\u001b[39;49m\u001b[43m \u001b[49m\u001b[38;5;124;43m\"\u001b[39;49m\u001b[38;5;124;43m/pondered_ref_WT4h_v2/\u001b[39;49m\u001b[38;5;124;43m\"\u001b[39;49m\u001b[43m \u001b[49m\u001b[38;5;241;43m+\u001b[39;49m\u001b[43m \u001b[49m\u001b[38;5;28;43mstr\u001b[39;49m\u001b[43m(\u001b[49m\u001b[43msample\u001b[49m\u001b[43m)\u001b[49m\u001b[43m \u001b[49m\u001b[38;5;241;43m+\u001b[39;49m\u001b[43m \u001b[49m\u001b[38;5;124;43m\"\u001b[39;49m\u001b[38;5;124;43m_1kb_binned_pondered_frequencies.tsv\u001b[39;49m\u001b[38;5;124;43m\"\u001b[39;49m\u001b[43m)\u001b[49m\u001b[43m,\u001b[49m\u001b[43msep\u001b[49m\u001b[38;5;241;43m=\u001b[39;49m\u001b[38;5;124;43m\"\u001b[39;49m\u001b[38;5;130;43;01m\\t\u001b[39;49;00m\u001b[38;5;124;43m\"\u001b[39;49m\u001b[43m)\u001b[49m \n\u001b[1;32m      8\u001b[0m     \u001b[38;5;66;03m# Call the function to calculate the sum on the specified chromosome and interval\u001b[39;00m\n\u001b[1;32m      9\u001b[0m     result \u001b[38;5;241m=\u001b[39m calculate_sum_in_interval_on_chromosome(table, chromosome_of_interest, start_index, end_index)\n",
      "File \u001b[0;32m~/.local/lib/python3.8/site-packages/pandas/io/parsers.py:676\u001b[0m, in \u001b[0;36m_make_parser_function.<locals>.parser_f\u001b[0;34m(filepath_or_buffer, sep, delimiter, header, names, index_col, usecols, squeeze, prefix, mangle_dupe_cols, dtype, engine, converters, true_values, false_values, skipinitialspace, skiprows, skipfooter, nrows, na_values, keep_default_na, na_filter, verbose, skip_blank_lines, parse_dates, infer_datetime_format, keep_date_col, date_parser, dayfirst, cache_dates, iterator, chunksize, compression, thousands, decimal, lineterminator, quotechar, quoting, doublequote, escapechar, comment, encoding, dialect, error_bad_lines, warn_bad_lines, delim_whitespace, low_memory, memory_map, float_precision)\u001b[0m\n\u001b[1;32m    623\u001b[0m     engine_specified \u001b[38;5;241m=\u001b[39m \u001b[38;5;28;01mFalse\u001b[39;00m\n\u001b[1;32m    625\u001b[0m kwds\u001b[38;5;241m.\u001b[39mupdate(\n\u001b[1;32m    626\u001b[0m     delimiter\u001b[38;5;241m=\u001b[39mdelimiter,\n\u001b[1;32m    627\u001b[0m     engine\u001b[38;5;241m=\u001b[39mengine,\n\u001b[0;32m   (...)\u001b[0m\n\u001b[1;32m    673\u001b[0m     skip_blank_lines\u001b[38;5;241m=\u001b[39mskip_blank_lines,\n\u001b[1;32m    674\u001b[0m )\n\u001b[0;32m--> 676\u001b[0m \u001b[38;5;28;01mreturn\u001b[39;00m \u001b[43m_read\u001b[49m\u001b[43m(\u001b[49m\u001b[43mfilepath_or_buffer\u001b[49m\u001b[43m,\u001b[49m\u001b[43m \u001b[49m\u001b[43mkwds\u001b[49m\u001b[43m)\u001b[49m\n",
      "File \u001b[0;32m~/.local/lib/python3.8/site-packages/pandas/io/parsers.py:448\u001b[0m, in \u001b[0;36m_read\u001b[0;34m(filepath_or_buffer, kwds)\u001b[0m\n\u001b[1;32m    445\u001b[0m _validate_names(kwds\u001b[38;5;241m.\u001b[39mget(\u001b[38;5;124m\"\u001b[39m\u001b[38;5;124mnames\u001b[39m\u001b[38;5;124m\"\u001b[39m, \u001b[38;5;28;01mNone\u001b[39;00m))\n\u001b[1;32m    447\u001b[0m \u001b[38;5;66;03m# Create the parser.\u001b[39;00m\n\u001b[0;32m--> 448\u001b[0m parser \u001b[38;5;241m=\u001b[39m \u001b[43mTextFileReader\u001b[49m\u001b[43m(\u001b[49m\u001b[43mfp_or_buf\u001b[49m\u001b[43m,\u001b[49m\u001b[43m \u001b[49m\u001b[38;5;241;43m*\u001b[39;49m\u001b[38;5;241;43m*\u001b[39;49m\u001b[43mkwds\u001b[49m\u001b[43m)\u001b[49m\n\u001b[1;32m    450\u001b[0m \u001b[38;5;28;01mif\u001b[39;00m chunksize \u001b[38;5;129;01mor\u001b[39;00m iterator:\n\u001b[1;32m    451\u001b[0m     \u001b[38;5;28;01mreturn\u001b[39;00m parser\n",
      "File \u001b[0;32m~/.local/lib/python3.8/site-packages/pandas/io/parsers.py:880\u001b[0m, in \u001b[0;36mTextFileReader.__init__\u001b[0;34m(self, f, engine, **kwds)\u001b[0m\n\u001b[1;32m    877\u001b[0m \u001b[38;5;28;01mif\u001b[39;00m \u001b[38;5;124m\"\u001b[39m\u001b[38;5;124mhas_index_names\u001b[39m\u001b[38;5;124m\"\u001b[39m \u001b[38;5;129;01min\u001b[39;00m kwds:\n\u001b[1;32m    878\u001b[0m     \u001b[38;5;28mself\u001b[39m\u001b[38;5;241m.\u001b[39moptions[\u001b[38;5;124m\"\u001b[39m\u001b[38;5;124mhas_index_names\u001b[39m\u001b[38;5;124m\"\u001b[39m] \u001b[38;5;241m=\u001b[39m kwds[\u001b[38;5;124m\"\u001b[39m\u001b[38;5;124mhas_index_names\u001b[39m\u001b[38;5;124m\"\u001b[39m]\n\u001b[0;32m--> 880\u001b[0m \u001b[38;5;28;43mself\u001b[39;49m\u001b[38;5;241;43m.\u001b[39;49m\u001b[43m_make_engine\u001b[49m\u001b[43m(\u001b[49m\u001b[38;5;28;43mself\u001b[39;49m\u001b[38;5;241;43m.\u001b[39;49m\u001b[43mengine\u001b[49m\u001b[43m)\u001b[49m\n",
      "File \u001b[0;32m~/.local/lib/python3.8/site-packages/pandas/io/parsers.py:1114\u001b[0m, in \u001b[0;36mTextFileReader._make_engine\u001b[0;34m(self, engine)\u001b[0m\n\u001b[1;32m   1112\u001b[0m \u001b[38;5;28;01mdef\u001b[39;00m \u001b[38;5;21m_make_engine\u001b[39m(\u001b[38;5;28mself\u001b[39m, engine\u001b[38;5;241m=\u001b[39m\u001b[38;5;124m\"\u001b[39m\u001b[38;5;124mc\u001b[39m\u001b[38;5;124m\"\u001b[39m):\n\u001b[1;32m   1113\u001b[0m     \u001b[38;5;28;01mif\u001b[39;00m engine \u001b[38;5;241m==\u001b[39m \u001b[38;5;124m\"\u001b[39m\u001b[38;5;124mc\u001b[39m\u001b[38;5;124m\"\u001b[39m:\n\u001b[0;32m-> 1114\u001b[0m         \u001b[38;5;28mself\u001b[39m\u001b[38;5;241m.\u001b[39m_engine \u001b[38;5;241m=\u001b[39m \u001b[43mCParserWrapper\u001b[49m\u001b[43m(\u001b[49m\u001b[38;5;28;43mself\u001b[39;49m\u001b[38;5;241;43m.\u001b[39;49m\u001b[43mf\u001b[49m\u001b[43m,\u001b[49m\u001b[43m \u001b[49m\u001b[38;5;241;43m*\u001b[39;49m\u001b[38;5;241;43m*\u001b[39;49m\u001b[38;5;28;43mself\u001b[39;49m\u001b[38;5;241;43m.\u001b[39;49m\u001b[43moptions\u001b[49m\u001b[43m)\u001b[49m\n\u001b[1;32m   1115\u001b[0m     \u001b[38;5;28;01melse\u001b[39;00m:\n\u001b[1;32m   1116\u001b[0m         \u001b[38;5;28;01mif\u001b[39;00m engine \u001b[38;5;241m==\u001b[39m \u001b[38;5;124m\"\u001b[39m\u001b[38;5;124mpython\u001b[39m\u001b[38;5;124m\"\u001b[39m:\n",
      "File \u001b[0;32m~/.local/lib/python3.8/site-packages/pandas/io/parsers.py:1891\u001b[0m, in \u001b[0;36mCParserWrapper.__init__\u001b[0;34m(self, src, **kwds)\u001b[0m\n\u001b[1;32m   1888\u001b[0m \u001b[38;5;28mself\u001b[39m\u001b[38;5;241m.\u001b[39musecols, \u001b[38;5;28mself\u001b[39m\u001b[38;5;241m.\u001b[39musecols_dtype \u001b[38;5;241m=\u001b[39m _validate_usecols_arg(kwds[\u001b[38;5;124m\"\u001b[39m\u001b[38;5;124musecols\u001b[39m\u001b[38;5;124m\"\u001b[39m])\n\u001b[1;32m   1889\u001b[0m kwds[\u001b[38;5;124m\"\u001b[39m\u001b[38;5;124musecols\u001b[39m\u001b[38;5;124m\"\u001b[39m] \u001b[38;5;241m=\u001b[39m \u001b[38;5;28mself\u001b[39m\u001b[38;5;241m.\u001b[39musecols\n\u001b[0;32m-> 1891\u001b[0m \u001b[38;5;28mself\u001b[39m\u001b[38;5;241m.\u001b[39m_reader \u001b[38;5;241m=\u001b[39m \u001b[43mparsers\u001b[49m\u001b[38;5;241;43m.\u001b[39;49m\u001b[43mTextReader\u001b[49m\u001b[43m(\u001b[49m\u001b[43msrc\u001b[49m\u001b[43m,\u001b[49m\u001b[43m \u001b[49m\u001b[38;5;241;43m*\u001b[39;49m\u001b[38;5;241;43m*\u001b[39;49m\u001b[43mkwds\u001b[49m\u001b[43m)\u001b[49m\n\u001b[1;32m   1892\u001b[0m \u001b[38;5;28mself\u001b[39m\u001b[38;5;241m.\u001b[39munnamed_cols \u001b[38;5;241m=\u001b[39m \u001b[38;5;28mself\u001b[39m\u001b[38;5;241m.\u001b[39m_reader\u001b[38;5;241m.\u001b[39munnamed_cols\n\u001b[1;32m   1894\u001b[0m passed_names \u001b[38;5;241m=\u001b[39m \u001b[38;5;28mself\u001b[39m\u001b[38;5;241m.\u001b[39mnames \u001b[38;5;129;01mis\u001b[39;00m \u001b[38;5;28;01mNone\u001b[39;00m\n",
      "File \u001b[0;32mpandas/_libs/parsers.pyx:374\u001b[0m, in \u001b[0;36mpandas._libs.parsers.TextReader.__cinit__\u001b[0;34m()\u001b[0m\n",
      "File \u001b[0;32mpandas/_libs/parsers.pyx:674\u001b[0m, in \u001b[0;36mpandas._libs.parsers.TextReader._setup_parser_source\u001b[0;34m()\u001b[0m\n",
      "\u001b[0;31mFileNotFoundError\u001b[0m: [Errno 2] File /mnt/e/Science/ssHiC/AD302/pondered_ref_WT4h_v2/AD302_1kb_binned_pondered_frequencies.tsv does not exist: '/mnt/e/Science/ssHiC/AD302/pondered_ref_WT4h_v2/AD302_1kb_binned_pondered_frequencies.tsv'"
     ]
    }
   ],
   "source": [
    "#samples = [\"AD207\", \"AD209\", \"AD211\", \"AD213\", \"AD234\", \"AD236\", \"AD238\", \"AD240\", \"AD244\", \"AD246\", \"AD248\"]\n",
    "samples = [\"AD258\", \"AD260\", \"AD290\", \"AD292\", \"AD294\", \"AD296\", \"AD298\", \"AD302\"]\n",
    "samples = [\"AD405\", \"AD407\"]\n",
    "#add AD257 AD259 AD289 when ponderation done\n",
    "\n",
    "for sample in samples:\n",
    "    #table = pd.read_csv(str(input_dir + str(sample) + \"/pondered_ref_WT4h_v1/\" + str(sample) + \"_1kb_binned_pondered_frequencies.tsv\"),sep=\"\\t\")\n",
    "    table = pd.read_csv(str(input_dir + str(sample) + \"/pondered_ref_WT4h_v2/\" + str(sample) + \"_1kb_binned_pondered_frequencies.tsv\"),sep=\"\\t\") \n",
    "    # Call the function to calculate the sum on the specified chromosome and interval\n",
    "    result = calculate_sum_in_interval_on_chromosome(table, chromosome_of_interest, start_index, end_index)\n",
    "\n",
    "    # Create a new table with the sum results\n",
    "    new_table = pd.DataFrame.from_dict(result, orient='index', columns=['Sum'])\n",
    "\n",
    "    # Save the new table\n",
    "    new_table.to_csv(str(output_dir + str(sample) + \"_sum_frequencies_\" + str(chromosome_of_interest) + \"_\" + str(start_index)\n",
    "                         + \"_\" + str(end_index) + \"_pondered_over_wt4h.tsv\"), sep=\"\\t\", index=True)"
   ]
  }
 ],
 "metadata": {
  "kernelspec": {
   "display_name": "Python 3 (ipykernel)",
   "language": "python",
   "name": "python3"
  },
  "language_info": {
   "codemirror_mode": {
    "name": "ipython",
    "version": 3
   },
   "file_extension": ".py",
   "mimetype": "text/x-python",
   "name": "python",
   "nbconvert_exporter": "python",
   "pygments_lexer": "ipython3",
   "version": "3.8.10"
  }
 },
 "nbformat": 4,
 "nbformat_minor": 5
}
