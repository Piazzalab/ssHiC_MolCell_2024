{
 "cells": [
  {
   "cell_type": "code",
   "execution_count": 12,
   "metadata": {},
   "outputs": [],
   "source": [
    "from hicstuff import hicstuff\n",
    "import pandas as pd\n",
    "import hicstuff.view as hcv\n",
    "import hicstuff.io as hio\n",
    "import numpy\n",
    "import sys\n",
    "\n",
    "todense = lambda x: hcv.sparse_to_dense(x, remove_diag=False)"
   ]
  },
  {
   "cell_type": "markdown",
   "metadata": {},
   "source": [
    "Script de Gael et Vittore qui utilise la fonction todense de hicstuff\n",
    "En input il faut une matrice (...mat.tsv) deja binnee en kb avec la fonction hicstuff rebin"
   ]
  },
  {
   "cell_type": "markdown",
   "metadata": {},
   "source": [
    "#Editer et copier dans le terminal si besoin\n",
    "\n",
    "\n",
    "hicstuff rebin -b 1kb -f /mnt/e/Science/HiC/Contact_files/Sparse/fragments_list_W303_710_DpnIIHinfI.txt -c /mnt/e/Science/HiC/Contact_files/Sparse/info_contigs_W303_710_DpnIIHinfI.txt /mnt/e/Science/HiC/Contact_files/Sparse/HB27_1_2_merged_trimmed.txt /mnt/e/Science/HiC/Contact_files/Rebin/HB27_1_2_merged_1kb"
   ]
  },
  {
   "cell_type": "markdown",
   "metadata": {},
   "source": [
    "Utilise hicstuff ici: le chargement de la matrice + conversion prend quelques minutes max sur un PC.\n",
    "\n",
    "Les coordonnees des chromosomes sont donnes par le fichier frag.tsv genere par hicstuff rebin"
   ]
  },
  {
   "cell_type": "code",
   "execution_count": 30,
   "metadata": {},
   "outputs": [],
   "source": [
    "##change the input directory for S288c or other genomes\n",
    "\n",
    "#input_dir = \"/mnt/e/Science/HiC/Contact_files/Rebin/\"  # 1st argument: sparce matrix file name and path\n",
    "input_dir = \"/mnt/e/Science/HiC/Contact_files/Rebin/S288c/\"  # 1st argument: sparce matrix file name and path\n",
    "#output_dir = \"/mnt/e/Science/HiC/Contact_files/Dense/\"  # 2nd argument: dense matrix file name and path\n",
    "output_dir = \"/mnt/e/Science/HiC/Contact_files/Dense/S288c/\"  # 2nd argument: dense matrix file name and path\n",
    "\n",
    "#samples = [\"AD362_S288c_DSB_cutsite_q20\", \"AD363_S288c_DSB_cutsite_q20\", \"AD364_S288c_DSB_cutsite_q20\",\n",
    "#          \"AD365_S288c_DSB_cutsite_q20\", \n",
    "#          \"AD368_S288c_DSB_cutsite_q20\", \"AD369_S288c_DSB_cutsite_q20\"]\n",
    "\n",
    "samples = [\"AD255_S288c_DSB_chr3_rDNA_cutsite_q20_v312\", \"AD256_S288c_DSB_chr3_rDNA_cutsite_q20_v312\"]  "
   ]
  },
  {
   "cell_type": "code",
   "execution_count": 21,
   "metadata": {},
   "outputs": [],
   "source": [
    "sample = \"SRX20747219_SRR24991179_S288c_DSB_chr3_rDNA_cutsite_q20_PCRfree\"\n",
    "inputcool_dir = \"/mnt/e/Science/HiC/Contact_files/Cool/S288c/\"\n",
    "a, frags, chrom = hio.load_cool(str(inputcool_dir + sample + \".cool\"))\n",
    "dense_a = todense(a)"
   ]
  },
  {
   "cell_type": "code",
   "execution_count": 31,
   "metadata": {},
   "outputs": [
    {
     "name": "stdout",
     "output_type": "stream",
     "text": [
      "AD255_S288c_DSB_chr3_rDNA_cutsite_q20_v312 done\n",
      "AD256_S288c_DSB_chr3_rDNA_cutsite_q20_v312 done\n"
     ]
    }
   ],
   "source": [
    "chrom_intersect_1 = [\"chr5\"] #specifies the primary chromosome(s) to make intersection\n",
    "chrom_intersect_2 = [\"chr2\", \"chr3\"] #specifies the secondary chromosome(s) to make intersection\n",
    "chromlist = [\"chr2\", \"chr3\", \"chr4\", \"chr5\", \"chr11\", \"chr12\"] #chromosomes to extract for intra analysis\n",
    "\n",
    "for sample in samples:\n",
    "    frags = pd.read_csv(str(input_dir + sample + \"_1kb.frags.tsv\"), sep = \"\\t\")\n",
    "    #frags = pd.read_csv(str(input_dir + sample + \"_1kb.frag.tsv\"), sep = \"\\t\")\n",
    "    \n",
    "    sparse_mat = hio.load_sparse_matrix(str(input_dir + sample + \"_1kb.mat.tsv\"))\n",
    "    dense_mat = todense(sparse_mat)\n",
    "    dense_mat = dense_mat.astype(int) # https://docs.scipy.org/doc/numpy/reference/generated/numpy.ndarray.astype.html\n",
    "    numpy.savetxt(str(output_dir + sample + \"_dense_1kb.mat.csv\"), dense_mat, fmt=\"%i\")\n",
    "\n",
    "    #Export individual chromosomes\n",
    "    for chrom in chromlist:\n",
    "\n",
    "        start = min(frags[(frags[\"chrom\"]== chrom)].index.values)\n",
    "        stop = max(frags[(frags[\"chrom\"]== chrom)].index.values)\n",
    "\n",
    "        dense_mat2 = dense_mat[start:stop,start:stop]\n",
    "        numpy.savetxt(str(output_dir + sample + \"_\" + str(chrom) + \"_dense_1kb.mat.csv\"), dense_mat2, fmt=\"%i\")\n",
    "    \n",
    "    #export chromosome intersections    \n",
    "    for chrom in chrom_intersect_1:\n",
    "        start = min(frags[(frags[\"chrom\"]== chrom)].index.values)\n",
    "        stop = max(frags[(frags[\"chrom\"]== chrom)].index.values)\n",
    "        \n",
    "        for chrom_alt in chrom_intersect_2:\n",
    "            start_alt = min(frags[(frags[\"chrom\"]== chrom_alt)].index.values)\n",
    "            stop_alt = max(frags[(frags[\"chrom\"]== chrom_alt)].index.values)\n",
    "            dense_mat2 = dense_mat[start_alt:stop_alt,start:stop]\n",
    "            numpy.savetxt(str(output_dir + sample + \"_\" + str(chrom_alt) + \"_\" + str(chrom) + \"_dense_1kb.mat.csv\"), dense_mat2, fmt=\"%i\")\n",
    "    \n",
    "    #remove the 2-micron and the mitochondria\n",
    "    start = 0\n",
    "    stop = max(frags[(frags[\"chrom\"]== \"chr16\")].index.values)\n",
    "    dense_mat2 = dense_mat[start:stop,start:stop]\n",
    "    numpy.savetxt(str(output_dir + sample + \"_chrs_dense_1kb.mat.csv\"), dense_mat2, fmt=\"%i\")\n",
    "    print(str(sample) + \" done\")"
   ]
  },
  {
   "cell_type": "markdown",
   "metadata": {},
   "source": [
    "For extraction of specific chromosomes"
   ]
  },
  {
   "cell_type": "code",
   "execution_count": 10,
   "metadata": {},
   "outputs": [],
   "source": [
    "chromlist = [\"chr12\"] #chromosomes to extract for intra analysis\n",
    "\n",
    "for sample in samples:\n",
    "    frags = pd.read_csv(str(input_dir + sample + \"_1kb.frasg.tsv\"), sep = \"\\t\")\n",
    "    #frags = pd.read_csv(str(input_dir + sample + \"_1kb.frag.tsv\"), sep = \"\\t\")\n",
    "    \n",
    "    sparse_mat = hio.load_sparse_matrix(str(input_dir + sample + \"_1kb.mat.tsv\"))\n",
    "    dense_mat = todense(sparse_mat)\n",
    "    dense_mat = dense_mat.astype(int) # https://docs.scipy.org/doc/numpy/reference/generated/numpy.ndarray.astype.html\n",
    "    numpy.savetxt(str(output_dir + sample + \"_dense_1kb.mat.csv\"), dense_mat, fmt=\"%i\")\n",
    "\n",
    "    #Export individual chromosomes\n",
    "    for chrom in chromlist:\n",
    "\n",
    "        start = min(frags[(frags[\"chrom\"]== chrom)].index.values)\n",
    "        stop = max(frags[(frags[\"chrom\"]== chrom)].index.values)\n",
    "\n",
    "        dense_mat2 = dense_mat[start:stop,start:stop]\n",
    "        numpy.savetxt(str(output_dir + sample + \"_\" + str(chrom) + \"_dense_1kb.mat.csv\"), dense_mat2, fmt=\"%i\")\n",
    "    print(str(sample) + \" done\")\n",
    "    "
   ]
  },
  {
   "cell_type": "code",
   "execution_count": 4,
   "metadata": {},
   "outputs": [
    {
     "name": "stdout",
     "output_type": "stream",
     "text": [
      "AD355_S288c_DSB_cutsite_q20\n"
     ]
    }
   ],
   "source": [
    "print(sample)"
   ]
  },
  {
   "cell_type": "markdown",
   "metadata": {},
   "source": [
    "# For Meiosis synthetic region"
   ]
  },
  {
   "cell_type": "code",
   "execution_count": 2,
   "metadata": {},
   "outputs": [],
   "source": [
    "##change the input directory for S288c or other genomes\n",
    "\n",
    "input_dir = \"/mnt/e/Science/HiC/Contact_files/Rebin/Meiosis/\"  # 1st argument: sparce matrix file name and path\n",
    "output_dir = \"/mnt/e/Science/HiC/Contact_files/Dense/Meiosis/\"  # 2nd argument: dense matrix file name and path\n",
    "\n",
    "samples = [\"AD625_SK1_2019_Diploid_SynIVv1_SynIVv2_inversion_iterative_q20\",\n",
    "          \"AD626_SK1_2019_Diploid_SynIVv1_SynIVv2_inversion_v2only_iterative_q20\",\n",
    "          \"AD623_SK1_2019_Diploid_SynIVv1_SynIVv2_iterative_q20\",\n",
    "          \"AD624_SK1_2019_Diploid_SynIVv1_SynIVv2_iterative_q20\"]"
   ]
  },
  {
   "cell_type": "code",
   "execution_count": 3,
   "metadata": {},
   "outputs": [
    {
     "name": "stdout",
     "output_type": "stream",
     "text": [
      "AD625_SK1_2019_Diploid_SynIVv1_SynIVv2_inversion_iterative_q20 done\n",
      "AD626_SK1_2019_Diploid_SynIVv1_SynIVv2_inversion_v2only_iterative_q20 done\n",
      "AD623_SK1_2019_Diploid_SynIVv1_SynIVv2_iterative_q20 done\n",
      "AD624_SK1_2019_Diploid_SynIVv1_SynIVv2_iterative_q20 done\n"
     ]
    }
   ],
   "source": [
    "chrom_intersect_1 = [\"chr4_v1\"] #specifies the primary chromosome(s) to make intersection\n",
    "chrom_intersect_2 = [\"chr2\", \"chr11\", \"SynIV_v2\"] #specifies the secondary chromosome(s) to make intersection\n",
    "chromlist = [\"chr2\", \"chr3\", \"chr4_v1\", \"chr5\", \"chr11\", \"SynIV_v2\"] #chromosomes to extract for intra analysis\n",
    "\n",
    "for sample in samples:\n",
    "    frags = pd.read_csv(str(input_dir + sample + \"_1kb.frags.tsv\"), sep = \"\\t\")\n",
    "    \n",
    "    sparse_mat = hio.load_sparse_matrix(str(input_dir + sample + \"_1kb.mat.tsv\"))\n",
    "    dense_mat = todense(sparse_mat)\n",
    "    dense_mat = dense_mat.astype(int) # https://docs.scipy.org/doc/numpy/reference/generated/numpy.ndarray.astype.html\n",
    "    numpy.savetxt(str(output_dir + sample + \"_dense_1kb.mat.csv\"), dense_mat, fmt=\"%i\")\n",
    "\n",
    "    #Export individual chromosomes\n",
    "    for chrom in chromlist:\n",
    "\n",
    "        start = min(frags[(frags[\"chrom\"]== chrom)].index.values)\n",
    "        stop = max(frags[(frags[\"chrom\"]== chrom)].index.values)\n",
    "\n",
    "        dense_mat2 = dense_mat[start:stop,start:stop]\n",
    "        numpy.savetxt(str(output_dir + sample + \"_\" + str(chrom) + \"_dense_1kb.mat.csv\"), dense_mat2, fmt=\"%i\")\n",
    "    \n",
    "    #export chromosome intersections    \n",
    "    for chrom in chrom_intersect_1:\n",
    "        start = min(frags[(frags[\"chrom\"]== chrom)].index.values)\n",
    "        stop = max(frags[(frags[\"chrom\"]== chrom)].index.values)\n",
    "        \n",
    "        for chrom_alt in chrom_intersect_2:\n",
    "            start_alt = min(frags[(frags[\"chrom\"]== chrom_alt)].index.values)\n",
    "            stop_alt = max(frags[(frags[\"chrom\"]== chrom_alt)].index.values)\n",
    "            dense_mat2 = dense_mat[start_alt:stop_alt,start:stop]\n",
    "            numpy.savetxt(str(output_dir + sample + \"_\" + str(chrom_alt) + \"_\" + str(chrom) + \"_dense_1kb.mat.csv\"), dense_mat2, fmt=\"%i\")\n",
    "    \n",
    "    #remove the 2-micron and the mitochondria\n",
    "    start = 0\n",
    "    stop = max(frags[(frags[\"chrom\"]== \"chr16\")].index.values)\n",
    "    dense_mat2 = dense_mat[start:stop,start:stop]\n",
    "    numpy.savetxt(str(output_dir + sample + \"_chrs_dense_1kb.mat.csv\"), dense_mat2, fmt=\"%i\")\n",
    "    \n",
    "    #individual and intersection entre SynIV_v1 - SynIV_v2\n",
    "    start_v1 = 2107\n",
    "    stop_v1 = 2257\n",
    "    start_v2 = min(frags[(frags[\"chrom\"]== \"SynIV_v2\")].index.values)\n",
    "    stop_v2 = max(frags[(frags[\"chrom\"]== \"SynIV_v2\")].index.values)\n",
    "    dense_mat2 = dense_mat[start_v1:stop_v1,start_v2:stop_v2]\n",
    "    numpy.savetxt(str(output_dir + sample + \"_SynIV_intersect_dense_1kb.mat.csv\"), dense_mat2, fmt=\"%i\")\n",
    "    dense_mat2 = dense_mat[start_v1:stop_v1,start_v1:stop_v1]\n",
    "    numpy.savetxt(str(output_dir + sample + \"_SynIV_v1_dense_1kb.mat.csv\"), dense_mat2, fmt=\"%i\")    \n",
    "    dense_mat2 = dense_mat[start_v2:stop_v2,start_v2:stop_v2]\n",
    "    numpy.savetxt(str(output_dir + sample + \"_SynIV_v2_dense_1kb.mat.csv\"), dense_mat2, fmt=\"%i\")\n",
    "    print(str(sample) + \" done\")"
   ]
  },
  {
   "cell_type": "markdown",
   "metadata": {},
   "source": [
    "For Corentin"
   ]
  },
  {
   "cell_type": "code",
   "execution_count": 9,
   "metadata": {},
   "outputs": [
    {
     "name": "stdout",
     "output_type": "stream",
     "text": [
      "AD516_SK1_2019_Corentin_iterative_q10 is done\n",
      "AD517_SK1_2019_Corentin_iterative_q10 is done\n",
      "AD518_SK1_2019_Corentin_iterative_q10 is done\n",
      "AD519_SK1_2019_Corentin_iterative_q10 is done\n",
      "AD520_SK1_2019_Corentin_iterative_q10 is done\n",
      "AD521_SK1_2019_Corentin_iterative_q10 is done\n",
      "AD522_SK1_2019_Corentin_iterative_q10 is done\n",
      "AD523_SK1_2019_Corentin_iterative_q10 is done\n"
     ]
    }
   ],
   "source": [
    "chrom_intersect_1 = [\"chr5_annot\"] #specifies the primary chromosome(s) to make intersection\n",
    "chrom_intersect_2 = [\"chr2\", \"chr3\", \"chr6\", \"chr7\"] #specifies the secondary chromosome(s) to make intersection\n",
    "chromlist = [\"chr2\", \"chr3\", \"chr5_annot\", \"chr7\", \"chr11\"] #chromosomes to extract for intra analysis\n",
    "\n",
    "for sample in samples:\n",
    "    frags = pd.read_csv(str(input_dir + sample + \"_1kb.frag.tsv\"), sep = \"\\t\")\n",
    "    \n",
    "    sparse_mat = hio.load_sparse_matrix(str(input_dir + sample + \"_1kb.mat.tsv\"))\n",
    "    dense_mat = todense(sparse_mat)\n",
    "    dense_mat = dense_mat.astype(int) # https://docs.scipy.org/doc/numpy/reference/generated/numpy.ndarray.astype.html\n",
    "    numpy.savetxt(str(output_dir + sample + \"_dense_1kb.mat.csv\"), dense_mat, fmt=\"%i\")\n",
    "\n",
    "    #Export individual chromosomes\n",
    "    for chrom in chromlist:\n",
    "\n",
    "        start = min(frags[(frags[\"chrom\"]== chrom)].index.values)\n",
    "        stop = max(frags[(frags[\"chrom\"]== chrom)].index.values)\n",
    "\n",
    "        dense_mat2 = dense_mat[start:stop,start:stop]\n",
    "        numpy.savetxt(str(output_dir + sample + \"_\" + str(chrom) + \"_dense_1kb.mat.csv\"), dense_mat2, fmt=\"%i\")\n",
    "    \n",
    "    #export chromosome intersections    \n",
    "    for chrom in chrom_intersect_1:\n",
    "        start = min(frags[(frags[\"chrom\"]== chrom)].index.values)\n",
    "        stop = max(frags[(frags[\"chrom\"]== chrom)].index.values)\n",
    "        \n",
    "        for chrom_alt in chrom_intersect_2:\n",
    "            start_alt = min(frags[(frags[\"chrom\"]== chrom_alt)].index.values)\n",
    "            stop_alt = max(frags[(frags[\"chrom\"]== chrom_alt)].index.values)\n",
    "            dense_mat2 = dense_mat[start_alt:stop_alt,start:stop]\n",
    "            numpy.savetxt(str(output_dir + sample + \"_\" + str(chrom_alt) + \"_\" + str(chrom) + \"_dense_1kb.mat.csv\"), dense_mat2, fmt=\"%i\")\n",
    "    \n",
    "    #remove the 2-micron and the mitochondria\n",
    "    start = 0\n",
    "    stop = max(frags[(frags[\"chrom\"]== \"chr16\")].index.values)\n",
    "    dense_mat2 = dense_mat[start:stop,start:stop]\n",
    "    numpy.savetxt(str(output_dir + sample + \"_chrs_dense_1kb.mat.csv\"), dense_mat2, fmt=\"%i\")\n",
    "    \n",
    "    print(str(sample)+\" is done\")"
   ]
  },
  {
   "cell_type": "code",
   "execution_count": 8,
   "metadata": {},
   "outputs": [
    {
     "name": "stdout",
     "output_type": "stream",
     "text": [
      "AD516_SK1_2019_Corentin_iterative_q10 is done\n"
     ]
    }
   ],
   "source": [
    "\n",
    "    print(str(sample)+\" is done\")"
   ]
  },
  {
   "cell_type": "markdown",
   "metadata": {},
   "source": [
    "## For Glabrata"
   ]
  },
  {
   "cell_type": "code",
   "execution_count": 2,
   "metadata": {},
   "outputs": [],
   "source": [
    "##change the input directory for S288c or other genomes\n",
    "\n",
    "#input_dir = \"/mnt/e/Science/HiC/Contact_files/Rebin/\"  # 1st argument: sparce matrix file name and path\n",
    "input_dir = \"/mnt/e/Science/HiC/Contact_files/Rebin/Other_genomes/\"  # 1st argument: sparce matrix file name and path\n",
    "#output_dir = \"/mnt/e/Science/HiC/Contact_files/Dense/\"  # 2nd argument: dense matrix file name and path\n",
    "output_dir = \"/mnt/e/Science/HiC/Contact_files/Dense/Other_genomes/\"  # 2nd argument: dense matrix file name and path\n",
    "\n",
    "samples = [\"AT676_AT719_AT723_merged_CAGL_chr_MAT\",\n",
    "           \"AT677_AT720_AT724_merged_CAGL_chr_MAT\",\n",
    "           \"AT678_AT721_AT725_merged_CAGL_chr_MAT\",\n",
    "           \"AT679_AT722_AT726_merged_CAGL_chr_MAT\"]\n"
   ]
  },
  {
   "cell_type": "code",
   "execution_count": 4,
   "metadata": {},
   "outputs": [],
   "source": [
    "chrom_intersect_1 = [\"B\"] #specifies the primary chromosome(s) to make intersection\n",
    "chrom_intersect_2 = [\"E\", \"C\"] #specifies the secondary chromosome(s) to make intersection\n",
    "chromlist = [\"B\", \"C\", \"E\", \"K\"] #chromosomes to extract for intra analysis\n",
    "\n",
    "for sample in samples:\n",
    "    frags = pd.read_csv(str(input_dir + sample + \"_1kb.frag.tsv\"), sep = \"\\t\")\n",
    "    #frags = pd.read_csv(str(input_dir + sample + \"_1kb.frag.tsv\"), sep = \"\\t\")\n",
    "    \n",
    "    sparse_mat = hio.load_sparse_matrix(str(input_dir + sample + \"_1kb.mat.tsv\"))\n",
    "    dense_mat = todense(sparse_mat)\n",
    "    dense_mat = dense_mat.astype(int) # https://docs.scipy.org/doc/numpy/reference/generated/numpy.ndarray.astype.html\n",
    "    numpy.savetxt(str(output_dir + sample + \"_dense_1kb.mat.csv\"), dense_mat, fmt=\"%i\")\n",
    "\n",
    "    #Export individual chromosomes\n",
    "    for chrom in chromlist:\n",
    "\n",
    "        start = min(frags[(frags[\"chrom\"]== chrom)].index.values)\n",
    "        stop = max(frags[(frags[\"chrom\"]== chrom)].index.values)\n",
    "\n",
    "        dense_mat2 = dense_mat[start:stop,start:stop]\n",
    "        numpy.savetxt(str(output_dir + sample + \"_\" + str(chrom) + \"_dense_1kb.mat.csv\"), dense_mat2, fmt=\"%i\")\n",
    "    \n",
    "    #export chromosome intersections    \n",
    "    for chrom in chrom_intersect_1:\n",
    "        start = min(frags[(frags[\"chrom\"]== chrom)].index.values)\n",
    "        stop = max(frags[(frags[\"chrom\"]== chrom)].index.values)\n",
    "        \n",
    "        for chrom_alt in chrom_intersect_2:\n",
    "            start_alt = min(frags[(frags[\"chrom\"]== chrom_alt)].index.values)\n",
    "            stop_alt = max(frags[(frags[\"chrom\"]== chrom_alt)].index.values)\n",
    "            dense_mat2 = dense_mat[start_alt:stop_alt,start:stop]\n",
    "            numpy.savetxt(str(output_dir + sample + \"_\" + str(chrom_alt) + \"_\" + str(chrom) + \"_dense_1kb.mat.csv\"), dense_mat2, fmt=\"%i\")\n",
    "    "
   ]
  },
  {
   "cell_type": "markdown",
   "metadata": {},
   "source": []
  }
 ],
 "metadata": {
  "kernelspec": {
   "display_name": "Python 3 (ipykernel)",
   "language": "python",
   "name": "python3"
  },
  "language_info": {
   "codemirror_mode": {
    "name": "ipython",
    "version": 3
   },
   "file_extension": ".py",
   "mimetype": "text/x-python",
   "name": "python",
   "nbconvert_exporter": "python",
   "pygments_lexer": "ipython3",
   "version": "3.10.14"
  }
 },
 "nbformat": 4,
 "nbformat_minor": 4
}
