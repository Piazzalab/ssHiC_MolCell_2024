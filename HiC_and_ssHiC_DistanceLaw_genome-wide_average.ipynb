{
 "cells": [
  {
   "cell_type": "markdown",
   "metadata": {},
   "source": [
    "Compute the average p(S) and slope using the hicstuff package"
   ]
  },
  {
   "cell_type": "code",
   "execution_count": 3,
   "metadata": {},
   "outputs": [],
   "source": [
    "import numpy as np\n",
    "import pandas as pd\n",
    "import hicstuff.view as hcv\n",
    "import hicstuff.distance_law as hdl\n",
    "import hicstuff.commands as hic\n",
    "import hicstuff.io as hio\n",
    "from matplotlib import pyplot as plt"
   ]
  },
  {
   "cell_type": "markdown",
   "metadata": {},
   "source": [
    "For HiC samples. Replace directories and sample names. p(s) input files must be edited to remove mitochondria and 2-micron plasmid beforehand with the script HiC_distancelaw_remove_mito_and_2_micron.sh"
   ]
  },
  {
   "cell_type": "code",
   "execution_count": 7,
   "metadata": {
    "scrolled": true
   },
   "outputs": [
    {
     "name": "stderr",
     "output_type": "stream",
     "text": [
      "/home/apiazza/miniforge3/envs/jupyter/lib/python3.10/site-packages/hicstuff/distance_law.py:641: RuntimeWarning: invalid value encountered in divide\n",
      "  averaged_ps = ps_values / ps_occur\n",
      "/home/apiazza/miniforge3/envs/jupyter/lib/python3.10/site-packages/hicstuff/distance_law.py:641: RuntimeWarning: invalid value encountered in divide\n",
      "  averaged_ps = ps_values / ps_occur\n",
      "/home/apiazza/miniforge3/envs/jupyter/lib/python3.10/site-packages/hicstuff/distance_law.py:641: RuntimeWarning: invalid value encountered in divide\n",
      "  averaged_ps = ps_values / ps_occur\n",
      "/home/apiazza/miniforge3/envs/jupyter/lib/python3.10/site-packages/hicstuff/distance_law.py:641: RuntimeWarning: invalid value encountered in divide\n",
      "  averaged_ps = ps_values / ps_occur\n"
     ]
    }
   ],
   "source": [
    "input_dir = \"/mnt/d/Science/Owncloud/Experiments/HiC/Distance_law/\"\n",
    "output_dir = \"/mnt/d/Science/Owncloud/Experiments/HiC/Distance_law/Average/\"\n",
    "sample = [\"AD280_S288c_DSB_cutsite_q20\"]  \n",
    "\n",
    "min_dist = 3000\n",
    "max_dist = 100000\n",
    "for i in sample:\n",
    "    xs, ps, names = hdl.import_distance_law(str(input_dir + i + \"_chr.txt\"))\n",
    "    nps = hdl.normalize_distance_law(xs, ps, min_dist, sup = max_dist)\n",
    "    axs, aps = hdl.average_distance_law(xs, nps, sup = 3000)\n",
    "    slope = hdl.slope_distance_law(xs, ps)\n",
    "    axs, a_slope = hdl.average_distance_law(xs, slope, sup = 3000)\n",
    "    out = np.vstack((axs, aps, a_slope)).T\n",
    "    out = pd.DataFrame(out)\n",
    "    out.columns = [\"distance (bp)\", \"p(s)\", \"slope\"]\n",
    "    #np.append(0)\n",
    "    out.to_csv(str(output_dir + i + \"_chr_p(s)_slope.tsv\"), sep = '\\t')\n",
    "    #hdl.export_distance_law(xs, ps, names, out_dir=str(output_dir + i + \"_p(s).txt\"))\n",
    "    "
   ]
  },
  {
   "cell_type": "markdown",
   "metadata": {},
   "source": [
    "For ssHiC samples. Replace directories and sample names. p(s) input files must be edited to remove mitochondria and 2-micron plasmid beforehand with the script ssHiC_distancelaw_remove_mito_and_2_micron_and_captured_chr.sh"
   ]
  },
  {
   "cell_type": "code",
   "execution_count": null,
   "metadata": {},
   "outputs": [],
   "source": [
    "input_dir = \"/mnt/d/Science/Owncloud/Experiments/Capture/Distance_law/\"\n",
    "output_dir = \"/mnt/d/Science/Owncloud/Experiments/Capture/Distance_law/Average/\"\n",
    "sample = [\"AD294_S288c_DSB_LY_Capture_artificial_cutsite_q20\"]  \n",
    "\n",
    "min_dist = 3000\n",
    "max_dist = 100000\n",
    "for i in sample:\n",
    "    xs, ps, names = hdl.import_distance_law(str(input_dir + i + \"_chr.txt\"))\n",
    "    nps = hdl.normalize_distance_law(xs, ps, min_dist, sup = max_dist)\n",
    "    axs, aps = hdl.average_distance_law(xs, nps, sup = 3000)\n",
    "    slope = hdl.slope_distance_law(xs, ps)\n",
    "    axs, a_slope = hdl.average_distance_law(xs, slope, sup = 3000)\n",
    "    out = np.vstack((axs, aps, a_slope)).T\n",
    "    out = pd.DataFrame(out)\n",
    "    out.columns = [\"distance (bp)\", \"p(s)\", \"slope\"]\n",
    "    #np.append(0)\n",
    "    out.to_csv(str(output_dir + i + \"_chr_p(s)_slope.tsv\"), sep = '\\t')\n",
    "    #hdl.export_distance_law(xs, ps, names, out_dir=str(output_dir + i + \"_p(s).txt\"))\n",
    "    "
   ]
  }
 ],
 "metadata": {
  "kernelspec": {
   "display_name": "Python 3 (ipykernel)",
   "language": "python",
   "name": "python3"
  },
  "language_info": {
   "codemirror_mode": {
    "name": "ipython",
    "version": 3
   },
   "file_extension": ".py",
   "mimetype": "text/x-python",
   "name": "python",
   "nbconvert_exporter": "python",
   "pygments_lexer": "ipython3",
   "version": "3.9.19"
  }
 },
 "nbformat": 4,
 "nbformat_minor": 4
}
